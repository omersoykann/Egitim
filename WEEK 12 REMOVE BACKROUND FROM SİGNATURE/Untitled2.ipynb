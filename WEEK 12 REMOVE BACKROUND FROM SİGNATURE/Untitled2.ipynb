{
 "cells": [
  {
   "cell_type": "code",
   "execution_count": 1,
   "id": "24360b7a-17fe-4675-a86b-677c99410a5c",
   "metadata": {},
   "outputs": [],
   "source": [
    "import numpy as np\n"
   ]
  },
  {
   "cell_type": "code",
   "execution_count": 3,
   "id": "11d5942a-0b64-4934-ad57-d8399cb3e139",
   "metadata": {},
   "outputs": [],
   "source": [
    "from PIL import Image"
   ]
  },
  {
   "cell_type": "code",
   "execution_count": 5,
   "id": "40f165cd-041c-47e2-a403-2564ab8f1678",
   "metadata": {},
   "outputs": [],
   "source": [
    "my_image = Image.open(\"./asd.jpg\").convert('RGB')\n"
   ]
  },
  {
   "cell_type": "code",
   "execution_count": 7,
   "id": "8d23a571-64ae-4c77-8eca-fffbc2443e76",
   "metadata": {},
   "outputs": [],
   "source": [
    "my_img_normalize = np.array(my_image) /255.0"
   ]
  },
  {
   "cell_type": "code",
   "execution_count": 9,
   "id": "df61cf92-4d31-4773-990a-25e916362bc4",
   "metadata": {},
   "outputs": [],
   "source": [
    "my_img_normalize[my_img_normalize>0.5] = 1"
   ]
  },
  {
   "cell_type": "code",
   "execution_count": 11,
   "id": "b8392e01-4ae8-4123-8501-df8e44425f8d",
   "metadata": {},
   "outputs": [],
   "source": [
    "my_img_unit8= (my_img_normalize*255).astype(np.uint8)"
   ]
  },
  {
   "cell_type": "code",
   "execution_count": 13,
   "id": "2849e877-cba5-45bc-83a3-9420c6fbefb9",
   "metadata": {},
   "outputs": [],
   "source": [
    "my_img_final= Image.fromarray(my_img_unit8)"
   ]
  },
  {
   "cell_type": "code",
   "execution_count": 15,
   "id": "ff3c3bdc-7f46-4e47-a5c9-f32ece0b4d56",
   "metadata": {},
   "outputs": [],
   "source": [
    "my_img_final.save(\"./ımza.png\")"
   ]
  },
  {
   "cell_type": "code",
   "execution_count": null,
   "id": "ecda0a1c-ce0b-4b6e-bf60-eab610b288db",
   "metadata": {},
   "outputs": [],
   "source": []
  }
 ],
 "metadata": {
  "kernelspec": {
   "display_name": "env_ybs",
   "language": "python",
   "name": "env_ybs"
  },
  "language_info": {
   "codemirror_mode": {
    "name": "ipython",
    "version": 3
   },
   "file_extension": ".py",
   "mimetype": "text/x-python",
   "name": "python",
   "nbconvert_exporter": "python",
   "pygments_lexer": "ipython3",
   "version": "3.10.10"
  }
 },
 "nbformat": 4,
 "nbformat_minor": 5
}
